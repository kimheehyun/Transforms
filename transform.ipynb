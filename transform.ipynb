{
 "cells": [
  {
   "cell_type": "markdown",
   "metadata": {},
   "source": [
    "데이터는 머신러닝 알고리즘 학습에 필요한 최종 처리된 형태로 항상 제공되는것이아님.  \n",
    "그래서 변환을 통해 학습에 적합하도록 만들어야함.  \n",
    "torchvision 에는 transform 과 target_transform 이라는 두가지 파라미터터가 있음. \n",
    "1) transform: 피쳐 수정  \n",
    "2) target_transform: 라벨 수정\n",
    "=> torchvision.transforms 모듈은 일반적으로 사용되는 여러 변환 함수를 기본적으로 제공함. \n",
    "\n",
    "ex) FashionMNIST 를 이용하여 연습. \n",
    "특징: PIL 이미지 형식이며 라벨은 정수임.  학습을 위해 피쳐들은 정규화된 텐서로 , 라벨은 원-핫 인코딩된 텐서로 변환 하하!\n",
    "\n",
    "ToTensor() 와 Lamda 를 이용함. "
   ]
  },
  {
   "cell_type": "code",
   "execution_count": null,
   "metadata": {},
   "outputs": [],
   "source": [
    "import torch\n",
    "from torchvision import datasets\n",
    "from torchvision.transforms import ToTensor, Lambda\n",
    "\n",
    "ds=datasets.FashionMNIST(\n",
    "    root=\"data\",\n",
    "    train=True,\n",
    "    download=True,\n",
    "    transform=ToTensor(),\n",
    "    \n",
    "    # 정수 라벨 y 를 원핫 벡터로 변환하는 코드 \n",
    "    target_transform=Lambda(lambda y: torch.zeros(10, dtype=torch.float).scatter_ (dim=0,index=torch.tensor(y),value=1) )\n",
    ")"
   ]
  },
  {
   "cell_type": "markdown",
   "metadata": {},
   "source": [
    "ToTensor() 는 PIL 이미지나 .ndarray를  flaot Tensor 로 변환함.  \n",
    "그리고 이미지의 픽셀 강도 값을 [0,1] 내에서 스케일함.  \n",
    "\n",
    "\n",
    "Lambda 변환은 사용자 정의 람다 함수를 적용함. \n",
    "\n",
    "target_transform=Lambda(lambda y: torch.zeros(10, dtype=torch.float).scatter_(0,torch.tensor(y),value=1) )  \n",
    "\n",
    "여기서는 정수를 원핫인코딩된 텐서로 변환하는 함수를 정의함. \n",
    "\n",
    "torch.zeros(10, dtype=torch.float) - 길이가 10이고 모든 값이 0 인 벡터를 만듦 \n",
    "\n",
    ".scatter_(dim=0,index=torch.tensor(y),value=1)  \n",
    "\n",
    "scatter 는 특정 인덱스 위치에 값을 채워 넣는 함수.  \n",
    "dim=0 -> 1 차원 벡터라서 0번째 기준으로 넣음.  \n",
    "index=torch.tensor(y) -> 라벨인 정수타입  y를 텐서로 바꿈.  \n",
    "=> ( scatter_ 함수의 index 인자는 tensor 타입이어야함. )\n",
    "value=1 -> 해당 인덱스 위치에 1 을 넣음. "
   ]
  }
 ],
 "metadata": {
  "kernelspec": {
   "display_name": "base",
   "language": "python",
   "name": "python3"
  },
  "language_info": {
   "codemirror_mode": {
    "name": "ipython",
    "version": 3
   },
   "file_extension": ".py",
   "mimetype": "text/x-python",
   "name": "python",
   "nbconvert_exporter": "python",
   "pygments_lexer": "ipython3",
   "version": "3.12.7"
  }
 },
 "nbformat": 4,
 "nbformat_minor": 2
}
